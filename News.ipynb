{
 "cells": [
  {
   "cell_type": "code",
   "execution_count": 3,
   "id": "f26d2516-a7c2-47d2-a42d-ec2224244332",
   "metadata": {},
   "outputs": [
    {
     "name": "stdout",
     "output_type": "stream",
     "text": [
      "Requirement already satisfied: firebase-admin in c:\\users\\lenovo\\anaconda3\\lib\\site-packages (6.6.0)\n",
      "Requirement already satisfied: cachecontrol>=0.12.14 in c:\\users\\lenovo\\anaconda3\\lib\\site-packages (from firebase-admin) (0.14.2)\n",
      "Requirement already satisfied: google-api-python-client>=1.7.8 in c:\\users\\lenovo\\anaconda3\\lib\\site-packages (from firebase-admin) (2.160.0)\n",
      "Requirement already satisfied: google-cloud-storage>=1.37.1 in c:\\users\\lenovo\\anaconda3\\lib\\site-packages (from firebase-admin) (3.0.0)\n",
      "Requirement already satisfied: pyjwt>=2.5.0 in c:\\users\\lenovo\\anaconda3\\lib\\site-packages (from pyjwt[crypto]>=2.5.0->firebase-admin) (2.8.0)\n",
      "Requirement already satisfied: google-api-core<3.0.0dev,>=1.22.1 in c:\\users\\lenovo\\anaconda3\\lib\\site-packages (from google-api-core[grpc]<3.0.0dev,>=1.22.1; platform_python_implementation != \"PyPy\"->firebase-admin) (2.24.1)\n",
      "Requirement already satisfied: google-cloud-firestore>=2.19.0 in c:\\users\\lenovo\\anaconda3\\lib\\site-packages (from firebase-admin) (2.20.0)\n",
      "Requirement already satisfied: googleapis-common-protos<2.0.dev0,>=1.56.2 in c:\\users\\lenovo\\anaconda3\\lib\\site-packages (from google-api-core<3.0.0dev,>=1.22.1->google-api-core[grpc]<3.0.0dev,>=1.22.1; platform_python_implementation != \"PyPy\"->firebase-admin) (1.66.0)\n",
      "Requirement already satisfied: protobuf!=3.20.0,!=3.20.1,!=4.21.0,!=4.21.1,!=4.21.2,!=4.21.3,!=4.21.4,!=4.21.5,<6.0.0.dev0,>=3.19.5 in c:\\users\\lenovo\\anaconda3\\lib\\site-packages (from google-api-core<3.0.0dev,>=1.22.1->google-api-core[grpc]<3.0.0dev,>=1.22.1; platform_python_implementation != \"PyPy\"->firebase-admin) (5.29.3)\n",
      "Requirement already satisfied: proto-plus<2.0.0dev,>=1.22.3 in c:\\users\\lenovo\\anaconda3\\lib\\site-packages (from google-api-core<3.0.0dev,>=1.22.1->google-api-core[grpc]<3.0.0dev,>=1.22.1; platform_python_implementation != \"PyPy\"->firebase-admin) (1.26.0)\n",
      "Requirement already satisfied: google-auth<3.0.dev0,>=2.14.1 in c:\\users\\lenovo\\anaconda3\\lib\\site-packages (from google-api-core<3.0.0dev,>=1.22.1->google-api-core[grpc]<3.0.0dev,>=1.22.1; platform_python_implementation != \"PyPy\"->firebase-admin) (2.38.0)\n",
      "Requirement already satisfied: requests<3.0.0.dev0,>=2.18.0 in c:\\users\\lenovo\\anaconda3\\lib\\site-packages (from google-api-core<3.0.0dev,>=1.22.1->google-api-core[grpc]<3.0.0dev,>=1.22.1; platform_python_implementation != \"PyPy\"->firebase-admin) (2.32.3)\n",
      "Requirement already satisfied: grpcio<2.0dev,>=1.33.2 in c:\\users\\lenovo\\anaconda3\\lib\\site-packages (from google-api-core[grpc]<3.0.0dev,>=1.22.1; platform_python_implementation != \"PyPy\"->firebase-admin) (1.70.0)\n",
      "Requirement already satisfied: grpcio-status<2.0.dev0,>=1.33.2 in c:\\users\\lenovo\\anaconda3\\lib\\site-packages (from google-api-core[grpc]<3.0.0dev,>=1.22.1; platform_python_implementation != \"PyPy\"->firebase-admin) (1.70.0)\n",
      "Requirement already satisfied: cachetools<6.0,>=2.0.0 in c:\\users\\lenovo\\anaconda3\\lib\\site-packages (from google-auth<3.0.dev0,>=2.14.1->google-api-core<3.0.0dev,>=1.22.1->google-api-core[grpc]<3.0.0dev,>=1.22.1; platform_python_implementation != \"PyPy\"->firebase-admin) (5.3.3)\n",
      "Requirement already satisfied: pyasn1-modules>=0.2.1 in c:\\users\\lenovo\\anaconda3\\lib\\site-packages (from google-auth<3.0.dev0,>=2.14.1->google-api-core<3.0.0dev,>=1.22.1->google-api-core[grpc]<3.0.0dev,>=1.22.1; platform_python_implementation != \"PyPy\"->firebase-admin) (0.2.8)\n",
      "Requirement already satisfied: rsa<5,>=3.1.4 in c:\\users\\lenovo\\anaconda3\\lib\\site-packages (from google-auth<3.0.dev0,>=2.14.1->google-api-core<3.0.0dev,>=1.22.1->google-api-core[grpc]<3.0.0dev,>=1.22.1; platform_python_implementation != \"PyPy\"->firebase-admin) (4.9)\n",
      "Requirement already satisfied: charset-normalizer<4,>=2 in c:\\users\\lenovo\\anaconda3\\lib\\site-packages (from requests<3.0.0.dev0,>=2.18.0->google-api-core<3.0.0dev,>=1.22.1->google-api-core[grpc]<3.0.0dev,>=1.22.1; platform_python_implementation != \"PyPy\"->firebase-admin) (3.3.2)\n",
      "Requirement already satisfied: idna<4,>=2.5 in c:\\users\\lenovo\\anaconda3\\lib\\site-packages (from requests<3.0.0.dev0,>=2.18.0->google-api-core<3.0.0dev,>=1.22.1->google-api-core[grpc]<3.0.0dev,>=1.22.1; platform_python_implementation != \"PyPy\"->firebase-admin) (3.7)\n",
      "Requirement already satisfied: urllib3<3,>=1.21.1 in c:\\users\\lenovo\\anaconda3\\lib\\site-packages (from requests<3.0.0.dev0,>=2.18.0->google-api-core<3.0.0dev,>=1.22.1->google-api-core[grpc]<3.0.0dev,>=1.22.1; platform_python_implementation != \"PyPy\"->firebase-admin) (2.2.3)\n",
      "Requirement already satisfied: certifi>=2017.4.17 in c:\\users\\lenovo\\anaconda3\\lib\\site-packages (from requests<3.0.0.dev0,>=2.18.0->google-api-core<3.0.0dev,>=1.22.1->google-api-core[grpc]<3.0.0dev,>=1.22.1; platform_python_implementation != \"PyPy\"->firebase-admin) (2025.4.26)\n",
      "Requirement already satisfied: pyasn1>=0.1.3 in c:\\users\\lenovo\\anaconda3\\lib\\site-packages (from rsa<5,>=3.1.4->google-auth<3.0.dev0,>=2.14.1->google-api-core<3.0.0dev,>=1.22.1->google-api-core[grpc]<3.0.0dev,>=1.22.1; platform_python_implementation != \"PyPy\"->firebase-admin) (0.4.8)\n",
      "Requirement already satisfied: msgpack<2.0.0,>=0.5.2 in c:\\users\\lenovo\\anaconda3\\lib\\site-packages (from cachecontrol>=0.12.14->firebase-admin) (1.0.3)\n",
      "Requirement already satisfied: httplib2<1.dev0,>=0.19.0 in c:\\users\\lenovo\\anaconda3\\lib\\site-packages (from google-api-python-client>=1.7.8->firebase-admin) (0.22.0)\n",
      "Requirement already satisfied: google-auth-httplib2<1.0.0,>=0.2.0 in c:\\users\\lenovo\\anaconda3\\lib\\site-packages (from google-api-python-client>=1.7.8->firebase-admin) (0.2.0)\n",
      "Requirement already satisfied: uritemplate<5,>=3.0.1 in c:\\users\\lenovo\\anaconda3\\lib\\site-packages (from google-api-python-client>=1.7.8->firebase-admin) (4.1.1)\n",
      "Requirement already satisfied: pyparsing!=3.0.0,!=3.0.1,!=3.0.2,!=3.0.3,<4,>=2.4.2 in c:\\users\\lenovo\\anaconda3\\lib\\site-packages (from httplib2<1.dev0,>=0.19.0->google-api-python-client>=1.7.8->firebase-admin) (3.1.2)\n",
      "Requirement already satisfied: google-cloud-core<3.0.0dev,>=1.4.1 in c:\\users\\lenovo\\anaconda3\\lib\\site-packages (from google-cloud-firestore>=2.19.0->firebase-admin) (2.4.1)\n",
      "Requirement already satisfied: google-resumable-media>=2.7.2 in c:\\users\\lenovo\\anaconda3\\lib\\site-packages (from google-cloud-storage>=1.37.1->firebase-admin) (2.7.2)\n",
      "Requirement already satisfied: google-crc32c<2.0dev,>=1.0 in c:\\users\\lenovo\\anaconda3\\lib\\site-packages (from google-cloud-storage>=1.37.1->firebase-admin) (1.6.0)\n",
      "Requirement already satisfied: cryptography>=3.4.0 in c:\\users\\lenovo\\anaconda3\\lib\\site-packages (from pyjwt[crypto]>=2.5.0->firebase-admin) (43.0.0)\n",
      "Requirement already satisfied: cffi>=1.12 in c:\\users\\lenovo\\anaconda3\\lib\\site-packages (from cryptography>=3.4.0->pyjwt[crypto]>=2.5.0->firebase-admin) (1.17.1)\n",
      "Requirement already satisfied: pycparser in c:\\users\\lenovo\\anaconda3\\lib\\site-packages (from cffi>=1.12->cryptography>=3.4.0->pyjwt[crypto]>=2.5.0->firebase-admin) (2.21)\n",
      "Note: you may need to restart the kernel to use updated packages.\n"
     ]
    }
   ],
   "source": [
    "pip install firebase-admin"
   ]
  },
  {
   "cell_type": "code",
   "execution_count": 4,
   "id": "9679ebef-7632-4464-91c5-796875b8905c",
   "metadata": {},
   "outputs": [
    {
     "name": "stdout",
     "output_type": "stream",
     "text": [
      "3.12.7 | packaged by Anaconda, Inc. | (main, Oct  4 2024, 13:17:27) [MSC v.1929 64 bit (AMD64)]\n"
     ]
    }
   ],
   "source": [
    "import sys\n",
    "print(sys.version)\n"
   ]
  },
  {
   "cell_type": "code",
   "execution_count": 5,
   "id": "8e623441-5220-479d-a4ee-f6c6a26ec5a0",
   "metadata": {},
   "outputs": [
    {
     "name": "stdout",
     "output_type": "stream",
     "text": [
      "Requirement already satisfied: transformers in c:\\users\\lenovo\\anaconda3\\lib\\site-packages (4.51.3)\n",
      "Requirement already satisfied: torch in c:\\users\\lenovo\\anaconda3\\lib\\site-packages (2.7.0)\n",
      "Requirement already satisfied: emoji in c:\\users\\lenovo\\anaconda3\\lib\\site-packages (2.14.1)\n",
      "Requirement already satisfied: filelock in c:\\users\\lenovo\\anaconda3\\lib\\site-packages (from transformers) (3.13.1)\n",
      "Requirement already satisfied: huggingface-hub<1.0,>=0.30.0 in c:\\users\\lenovo\\anaconda3\\lib\\site-packages (from transformers) (0.31.4)\n",
      "Requirement already satisfied: numpy>=1.17 in c:\\users\\lenovo\\anaconda3\\lib\\site-packages (from transformers) (1.26.4)\n",
      "Requirement already satisfied: packaging>=20.0 in c:\\users\\lenovo\\anaconda3\\lib\\site-packages (from transformers) (24.1)\n",
      "Requirement already satisfied: pyyaml>=5.1 in c:\\users\\lenovo\\anaconda3\\lib\\site-packages (from transformers) (6.0.1)\n",
      "Requirement already satisfied: regex!=2019.12.17 in c:\\users\\lenovo\\anaconda3\\lib\\site-packages (from transformers) (2024.9.11)\n",
      "Requirement already satisfied: requests in c:\\users\\lenovo\\anaconda3\\lib\\site-packages (from transformers) (2.32.3)\n",
      "Requirement already satisfied: tokenizers<0.22,>=0.21 in c:\\users\\lenovo\\anaconda3\\lib\\site-packages (from transformers) (0.21.1)\n",
      "Requirement already satisfied: safetensors>=0.4.3 in c:\\users\\lenovo\\anaconda3\\lib\\site-packages (from transformers) (0.5.3)\n",
      "Requirement already satisfied: tqdm>=4.27 in c:\\users\\lenovo\\anaconda3\\lib\\site-packages (from transformers) (4.66.5)\n",
      "Requirement already satisfied: fsspec>=2023.5.0 in c:\\users\\lenovo\\anaconda3\\lib\\site-packages (from huggingface-hub<1.0,>=0.30.0->transformers) (2024.6.1)\n",
      "Requirement already satisfied: typing-extensions>=3.7.4.3 in c:\\users\\lenovo\\anaconda3\\lib\\site-packages (from huggingface-hub<1.0,>=0.30.0->transformers) (4.11.0)\n",
      "Requirement already satisfied: sympy>=1.13.3 in c:\\users\\lenovo\\anaconda3\\lib\\site-packages (from torch) (1.14.0)\n",
      "Requirement already satisfied: networkx in c:\\users\\lenovo\\anaconda3\\lib\\site-packages (from torch) (3.3)\n",
      "Requirement already satisfied: jinja2 in c:\\users\\lenovo\\anaconda3\\lib\\site-packages (from torch) (3.1.4)\n",
      "Requirement already satisfied: setuptools in c:\\users\\lenovo\\anaconda3\\lib\\site-packages (from torch) (75.1.0)\n",
      "Requirement already satisfied: mpmath<1.4,>=1.1.0 in c:\\users\\lenovo\\anaconda3\\lib\\site-packages (from sympy>=1.13.3->torch) (1.3.0)\n",
      "Requirement already satisfied: colorama in c:\\users\\lenovo\\anaconda3\\lib\\site-packages (from tqdm>=4.27->transformers) (0.4.6)\n",
      "Requirement already satisfied: MarkupSafe>=2.0 in c:\\users\\lenovo\\anaconda3\\lib\\site-packages (from jinja2->torch) (2.1.3)\n",
      "Requirement already satisfied: charset-normalizer<4,>=2 in c:\\users\\lenovo\\anaconda3\\lib\\site-packages (from requests->transformers) (3.3.2)\n",
      "Requirement already satisfied: idna<4,>=2.5 in c:\\users\\lenovo\\anaconda3\\lib\\site-packages (from requests->transformers) (3.7)\n",
      "Requirement already satisfied: urllib3<3,>=1.21.1 in c:\\users\\lenovo\\anaconda3\\lib\\site-packages (from requests->transformers) (2.2.3)\n",
      "Requirement already satisfied: certifi>=2017.4.17 in c:\\users\\lenovo\\anaconda3\\lib\\site-packages (from requests->transformers) (2025.4.26)\n",
      "Note: you may need to restart the kernel to use updated packages.\n"
     ]
    }
   ],
   "source": [
    "pip install transformers torch emoji"
   ]
  },
  {
   "cell_type": "code",
   "execution_count": 6,
   "id": "5f307a2f-357a-4d84-aa45-57e82d2e24b3",
   "metadata": {},
   "outputs": [],
   "source": [
    "import requests\n",
    "\n",
    "API_KEY = '58b4bcc7e574420ca04d721e21e233cd'\n",
    "url = ('https://newsapi.org/v2/top-headlines?'\n",
    "       'language=en&'\n",
    "       'pageSize=100&'\n",
    "       'apiKey=' + API_KEY)\n",
    "\n",
    "response = requests.get(url)\n",
    "articles = response.json().get('articles', [])"
   ]
  },
  {
   "cell_type": "code",
   "execution_count": 7,
   "id": "89b93f18-53c5-4a50-bb86-af96024187d9",
   "metadata": {},
   "outputs": [
    {
     "name": "stdout",
     "output_type": "stream",
     "text": [
      "Fetched 27 articles\n"
     ]
    }
   ],
   "source": [
    "news_data = []\n",
    "for article in articles:\n",
    "    news_data.append({\n",
    "        'title': article.get('title', ''),\n",
    "        'description': article.get('description', ''),\n",
    "        'content': article.get('content', ''),\n",
    "        'publishedAt': article.get('publishedAt', ''),\n",
    "        'source': article.get('source', {}).get('name', ''),  # safely get nested 'name'\n",
    "        'author': article.get('author', ''),\n",
    "        'url': article.get('url', ''),\n",
    "        'urlToImage': article.get('urlToImage', '')\n",
    "    })\n",
    "\n",
    "print(f\"Fetched {len(news_data)} articles\")\n"
   ]
  },
  {
   "cell_type": "code",
   "execution_count": 8,
   "id": "58387322-9168-4014-9574-4daa6d8153e1",
   "metadata": {},
   "outputs": [
    {
     "name": "stdout",
     "output_type": "stream",
     "text": [
      "{\n",
      "    \"title\": \"How Did 10 Inmates Escape a New Orleans Jail Without Anyone Noticing? - WSJ\",\n",
      "    \"description\": null,\n",
      "    \"content\": null,\n",
      "    \"publishedAt\": \"2025-05-24T09:30:00Z\",\n",
      "    \"source\": \"The Wall Street Journal\",\n",
      "    \"author\": \"WSJ\",\n",
      "    \"url\": \"https://www.wsj.com/us-news/new-orleans-jail-break-security-4f81f8da\",\n",
      "    \"urlToImage\": null\n",
      "}\n"
     ]
    }
   ],
   "source": [
    "import json\n",
    "\n",
    "# Print the first article in a nicely formatted way\n",
    "print(json.dumps(news_data[0], indent=4))"
   ]
  },
  {
   "cell_type": "code",
   "execution_count": 9,
   "id": "cc64d67e-6f26-4e51-8b96-ecc31507c2ae",
   "metadata": {},
   "outputs": [
    {
     "name": "stdout",
     "output_type": "stream",
     "text": [
      "Requirement already satisfied: nltk in c:\\users\\lenovo\\anaconda3\\lib\\site-packages (3.9.1)\n",
      "Requirement already satisfied: click in c:\\users\\lenovo\\anaconda3\\lib\\site-packages (from nltk) (8.1.7)\n",
      "Requirement already satisfied: joblib in c:\\users\\lenovo\\anaconda3\\lib\\site-packages (from nltk) (1.4.2)\n",
      "Requirement already satisfied: regex>=2021.8.3 in c:\\users\\lenovo\\anaconda3\\lib\\site-packages (from nltk) (2024.9.11)\n",
      "Requirement already satisfied: tqdm in c:\\users\\lenovo\\anaconda3\\lib\\site-packages (from nltk) (4.66.5)\n",
      "Requirement already satisfied: colorama in c:\\users\\lenovo\\anaconda3\\lib\\site-packages (from click->nltk) (0.4.6)\n",
      "Note: you may need to restart the kernel to use updated packages.\n"
     ]
    }
   ],
   "source": [
    "   pip install nltk"
   ]
  },
  {
   "cell_type": "code",
   "execution_count": 10,
   "id": "1eb465f4-8a71-4d0c-ae7c-14dad3d43289",
   "metadata": {},
   "outputs": [
    {
     "name": "stderr",
     "output_type": "stream",
     "text": [
      "[nltk_data] Downloading package punkt to\n",
      "[nltk_data]     C:\\Users\\LENOVO\\AppData\\Roaming\\nltk_data...\n",
      "[nltk_data]   Package punkt is already up-to-date!\n",
      "[nltk_data] Downloading package stopwords to\n",
      "[nltk_data]     C:\\Users\\LENOVO\\AppData\\Roaming\\nltk_data...\n",
      "[nltk_data]   Package stopwords is already up-to-date!\n",
      "[nltk_data] Downloading package wordnet to\n",
      "[nltk_data]     C:\\Users\\LENOVO\\AppData\\Roaming\\nltk_data...\n",
      "[nltk_data]   Package wordnet is already up-to-date!\n",
      "[nltk_data] Downloading package punkt_tab to\n",
      "[nltk_data]     C:\\Users\\LENOVO\\AppData\\Roaming\\nltk_data...\n",
      "[nltk_data]   Package punkt_tab is already up-to-date!\n"
     ]
    },
    {
     "data": {
      "text/plain": [
       "True"
      ]
     },
     "execution_count": 10,
     "metadata": {},
     "output_type": "execute_result"
    }
   ],
   "source": [
    "import nltk\n",
    "nltk.download('punkt')\n",
    "nltk.download('stopwords')\n",
    "nltk.download('wordnet')\n",
    "nltk.download('punkt_tab')\n"
   ]
  },
  {
   "cell_type": "code",
   "execution_count": 11,
   "id": "8099d797-d483-4387-a86b-4259c5623c9c",
   "metadata": {},
   "outputs": [],
   "source": [
    "import pandas as pd\n",
    "import nltk\n",
    "from nltk.tokenize import word_tokenize\n",
    "from nltk.corpus import stopwords\n",
    "from nltk.stem import WordNetLemmatizer\n"
   ]
  },
  {
   "cell_type": "code",
   "execution_count": 12,
   "id": "5715dfd5-c512-4c73-a30d-9fda673a44c0",
   "metadata": {},
   "outputs": [],
   "source": [
    "def process_news_data(news_data):\n",
    "    df = pd.DataFrame(news_data)\n",
    "    df_clean = df.dropna(subset=['content'])\n",
    "    \n",
    "    # Process text: tokenize, remove stopwords, lemmatize\n",
    "    stop_words = set(stopwords.words('english'))\n",
    "    lemmatizer = WordNetLemmatizer()\n",
    "        \n",
    "    def clean_text(text):\n",
    "        if not isinstance(text, str):\n",
    "            return \"\"\n",
    "        tokens = word_tokenize(text.lower())\n",
    "        filtered = [word for word in tokens if word.isalnum() and word not in stop_words]\n",
    "        return \" \".join(lemmatizer.lemmatize(word) for word in filtered)\n",
    "    df_clean.loc[:, 'processed_content'] = df_clean['content'].apply(clean_text)\n",
    "\n",
    "    \n",
    "    return df_clean"
   ]
  },
  {
   "cell_type": "code",
   "execution_count": 13,
   "id": "276fb4e0-2e41-4bb2-8041-700065971064",
   "metadata": {},
   "outputs": [
    {
     "name": "stderr",
     "output_type": "stream",
     "text": [
      "C:\\Users\\LENOVO\\AppData\\Local\\Temp\\ipykernel_15712\\4179575933.py:15: SettingWithCopyWarning: \n",
      "A value is trying to be set on a copy of a slice from a DataFrame.\n",
      "Try using .loc[row_indexer,col_indexer] = value instead\n",
      "\n",
      "See the caveats in the documentation: https://pandas.pydata.org/pandas-docs/stable/user_guide/indexing.html#returning-a-view-versus-a-copy\n",
      "  df_clean.loc[:, 'processed_content'] = df_clean['content'].apply(clean_text)\n"
     ]
    }
   ],
   "source": [
    "processed_df = process_news_data(news_data)"
   ]
  },
  {
   "cell_type": "code",
   "execution_count": 14,
   "id": "04a10a0d-d1c2-48af-9af5-c365e1663c94",
   "metadata": {},
   "outputs": [
    {
     "name": "stdout",
     "output_type": "stream",
     "text": [
      "Processed 26 of 27 news items\n",
      "                                                title  \\\n",
      "1   Russia launches major aerial attack on Ukraine...   \n",
      "2   Knicks-Pacers: 5 takeaways as Pascal Siakam po...   \n",
      "3   Horoscope for Saturday, May 24, 2025 - Chicago...   \n",
      "4   ​New COVID variant NB.1.8.1 behind surge in ca...   \n",
      "5   White House dismisses scores of National Secur...   \n",
      "6   San Diego plane crash is a devastating loss to...   \n",
      "7   Eric Adams appears to be running a real campai...   \n",
      "8   See a penny, pick it up? In the future, probab...   \n",
      "9   German woman arrested after mass stabbing at H...   \n",
      "10  Immigrant arrests at courthouses signal new ta...   \n",
      "11  Billy Joel cancels shows due to a brain disord...   \n",
      "12  4 top partners quit Paul Weiss, Big Law firm t...   \n",
      "13  Trump announces U.S. Steel, Nippon ‘partnershi...   \n",
      "14  ‘Lilo & Stitch’ Targeting $170M-$180M Box Offi...   \n",
      "15  Emotions were on full display during final epi...   \n",
      "16  For U.S. Jews, D.C. museum killings deepen res...   \n",
      "17  China criticizes Trump administration’s move t...   \n",
      "18  I/O versus io: Google and OpenAI can’t stop me...   \n",
      "19  ‘Grandpa robbers’ who terrorized Kim Kardashia...   \n",
      "20  The Best Memorial Day TV Deals We've Found So ...   \n",
      "21  Josh O’Connor Art Heist Film ‘The Mastermind’ ...   \n",
      "22  Possible sign of life in deep space faces new ...   \n",
      "23  Samsung Galaxy S25 Edge gives me battery anxie...   \n",
      "24  Family likely infected with fungal disease aft...   \n",
      "25  Scientists Uncover Shocking Origin of Human Te...   \n",
      "26  Watch SpaceX's 32nd Cargo Dragon spacecraft un...   \n",
      "\n",
      "                                    processed_content  \n",
      "1   least 14 people injured major russian missile ...  \n",
      "2   pascal siakam score playoff 39 point 23 shooti...  \n",
      "3   moon alert avoid shopping important decision 1...  \n",
      "4   symptom largely consistent previous omicron va...  \n",
      "5   score staffer white house national security co...  \n",
      "6   new york ap alternative music community mourni...  \n",
      "7   paid state democratic party voter file list re...  \n",
      "8   new york ap ask someone thought could cost nic...  \n",
      "9   authority germany arrested woman charged stabb...  \n",
      "10  masked officer descended courthouse across cou...  \n",
      "11  billy joel canceled scheduled performance unit...  \n",
      "12  four partner paul weiss announced friday leavi...  \n",
      "13  president donald trump appeared approve deal s...  \n",
      "14  memorial day box office already delivering maj...  \n",
      "15  mute button pressed last time around legendary...  \n",
      "16  rabbi ruth balinsky friedman teach jewish text...  \n",
      "17  bangkok ap chinese government said friday trum...  \n",
      "18  reading line week dueling announcement two ai ...  \n",
      "19  eight people behind 2016 armed robbery reality...  \n",
      "20  memorial day one best time year score great de...  \n",
      "21  kelly reichardt latest film mastermind starrin...  \n",
      "22  april scientist captured global attention anno...  \n",
      "23  first picked samsung galaxy s25 edge marveled ...  \n",
      "24  newsnation twelve 13 member one family fell il...  \n",
      "25  groundbreaking study published naturereveals t...  \n",
      "26  spacex 32nd robotic dragon cargo mission set u...  \n"
     ]
    }
   ],
   "source": [
    "print(f\"Processed {len(processed_df)} of {len(news_data)} news items\")\n",
    "print(processed_df[['title', 'processed_content']])"
   ]
  },
  {
   "cell_type": "code",
   "execution_count": 15,
   "id": "5a7dc129-8b46-431d-b736-96ebaf5bec05",
   "metadata": {},
   "outputs": [
    {
     "name": "stderr",
     "output_type": "stream",
     "text": [
      "No model was supplied, defaulted to distilbert/distilbert-base-uncased-finetuned-sst-2-english and revision 714eb0f (https://huggingface.co/distilbert/distilbert-base-uncased-finetuned-sst-2-english).\n",
      "Using a pipeline without specifying a model name and revision in production is not recommended.\n",
      "Device set to use cpu\n"
     ]
    }
   ],
   "source": [
    "from transformers import pipeline\n",
    "import pandas as pd\n",
    "\n",
    "# Assuming you already have 'processed_df' from your previous code\n",
    "sentiment_analyzer = pipeline(\"sentiment-analysis\")\n",
    "\n",
    "# Analyze sentiment\n",
    "results = sentiment_analyzer(processed_df['processed_content'].tolist())\n",
    "\n",
    "# Add sentiment to DataFrame\n",
    "processed_df[\"sentiment\"] = [res[\"label\"] for res in results]\n",
    "processed_df[\"sentiment_score\"] = [res[\"score\"] for res in results]\n"
   ]
  },
  {
   "cell_type": "code",
   "execution_count": 16,
   "id": "a9fda83b-c007-4c46-a970-6de902cbe606",
   "metadata": {},
   "outputs": [
    {
     "data": {
      "text/plain": [
       "<firebase_admin.App at 0x2393ff67230>"
      ]
     },
     "execution_count": 16,
     "metadata": {},
     "output_type": "execute_result"
    }
   ],
   "source": [
    "import firebase_admin\n",
    "from firebase_admin import credentials\n",
    "from firebase_admin import firestore\n",
    "\n",
    "cred = credentials.Certificate(\"newssen-1ba2b-firebase-adminsdk-fbsvc-16eb43bcaa.json\")\n",
    "firebase_admin.initialize_app(cred)\n",
    "\n"
   ]
  },
  {
   "cell_type": "code",
   "execution_count": 17,
   "id": "d26195cd-43b9-43f3-bef2-6b0a3f7cc039",
   "metadata": {},
   "outputs": [
    {
     "name": "stdout",
     "output_type": "stream",
     "text": [
      "Articles uploaded successfully!\n"
     ]
    }
   ],
   "source": [
    "db = firestore.client()\n",
    "for index, row in processed_df.iterrows():\n",
    "    data = {\n",
    "        'title': row['title'],\n",
    "        'content': row['processed_content'],\n",
    "        'sentiment': row['sentiment'],\n",
    "        'score': row['sentiment_score']\n",
    "    }\n",
    "    db.collection('news_articles').add(data)\n",
    "\n",
    "print(\"Articles uploaded successfully!\")"
   ]
  },
  {
   "cell_type": "code",
   "execution_count": null,
   "id": "a8354964-8b44-4d1e-a144-d666d1d4e513",
   "metadata": {},
   "outputs": [],
   "source": []
  },
  {
   "cell_type": "code",
   "execution_count": null,
   "id": "df3bc62e-5319-4384-91db-8315c7219d23",
   "metadata": {},
   "outputs": [],
   "source": []
  },
  {
   "cell_type": "code",
   "execution_count": null,
   "id": "8a1626cd-9fac-4050-a48a-5a56709f6fe5",
   "metadata": {},
   "outputs": [],
   "source": []
  },
  {
   "cell_type": "code",
   "execution_count": null,
   "id": "cceb0ef1-7c15-42a1-82bb-6228fb69191e",
   "metadata": {},
   "outputs": [],
   "source": []
  },
  {
   "cell_type": "code",
   "execution_count": null,
   "id": "0a2c1d15-0448-4010-a0ce-8bc3f8c7cafb",
   "metadata": {},
   "outputs": [],
   "source": []
  }
 ],
 "metadata": {
  "kernelspec": {
   "display_name": "Python [conda env:base] *",
   "language": "python",
   "name": "conda-base-py"
  },
  "language_info": {
   "codemirror_mode": {
    "name": "ipython",
    "version": 3
   },
   "file_extension": ".py",
   "mimetype": "text/x-python",
   "name": "python",
   "nbconvert_exporter": "python",
   "pygments_lexer": "ipython3",
   "version": "3.12.7"
  }
 },
 "nbformat": 4,
 "nbformat_minor": 5
}
